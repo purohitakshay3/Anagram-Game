{
 "cells": [
  {
   "cell_type": "code",
   "execution_count": 3,
   "metadata": {},
   "outputs": [
    {
     "name": "stdout",
     "output_type": "stream",
     "text": [
      "Unscramble the letters to form a word.\n",
      "noxious\n",
      "Type '?' for the meaning of the unscrambled word\n",
      "soxoinu\n",
      "Enter word [? for meaning of unscrambled word]: ?\n",
      "The word means: harmful; poisonous; lethal\n",
      "Enter word: noxious\n",
      "You got it! Do you want to continue [yes or no]: yes\n",
      "bigot\n",
      "Type '?' for the meaning of the unscrambled word\n",
      "botig\n",
      "Enter word [? for meaning of unscrambled word]: hgfjh\n",
      "Wrong! Do you want to continue [yes or no]: no\n",
      "End of program! Thank you!\n"
     ]
    }
   ],
   "source": [
    "#Question 1\n",
    "\n",
    "#Making Dictionary\n",
    "\n",
    "file1 = open(\"word.txt\",'r')\n",
    "string = file1.read()\n",
    "str1 = string.split('\\n')\n",
    "dict1 = {}\n",
    "final_dict = {}\n",
    "for i in str1:\n",
    "    word = i.split(':')\n",
    "    dict1 = {word[0]:word[1]}\n",
    "    if final_dict == {}:\n",
    "        final_dict = dict1\n",
    "    else:\n",
    "        final_dict.update(dict1)\n",
    "        \n",
    "#print final_dict\n",
    "\n",
    "#Generating random word\n",
    "import random\n",
    "\n",
    "choice = ''\n",
    "print(\"Unscramble the letters to form a word.\")\n",
    "\n",
    "while choice != 'no':\n",
    "    rword = random.choice(final_dict.keys())\n",
    "    print rword\n",
    "    temp = list(rword)\n",
    "    random.shuffle(temp)\n",
    "    jword = ''.join(temp)\n",
    "    print(\"Type '?' for the meaning of the unscrambled word\")\n",
    "    print jword\n",
    "    name = raw_input(\"Enter word [? for meaning of unscrambled word]: \")\n",
    "    if name == '?':\n",
    "        meaning = final_dict[rword]\n",
    "        print(\"The word means: {}\".format(meaning))\n",
    "        name = raw_input(\"Enter word: \")\n",
    "    if name == rword:\n",
    "        choice = name = raw_input(\"You got it! Do you want to continue [yes or no]: \")\n",
    "    else:\n",
    "        choice = name = raw_input(\"Wrong! Do you want to continue [yes or no]: \")\n",
    "\n",
    "print \"End of program! Thank you!\""
   ]
  }
 ],
 "metadata": {
  "kernelspec": {
   "display_name": "Python 2",
   "language": "python",
   "name": "python2"
  },
  "language_info": {
   "codemirror_mode": {
    "name": "ipython",
    "version": 2
   },
   "file_extension": ".py",
   "mimetype": "text/x-python",
   "name": "python",
   "nbconvert_exporter": "python",
   "pygments_lexer": "ipython2",
   "version": "2.7.14"
  }
 },
 "nbformat": 4,
 "nbformat_minor": 2
}
